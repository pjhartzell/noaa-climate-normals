{
 "cells": [
  {
   "cell_type": "code",
   "execution_count": 2,
   "metadata": {},
   "outputs": [],
   "source": [
    "from pathlib import Path\n",
    "\n",
    "from stactools.noaa_climate_normals.tabular.constants import Frequency, Period\n",
    "from stactools.noaa_climate_normals.tabular.parquet import create_parquet\n",
    "from stactools.noaa_climate_normals.tabular.utils import id_string\n",
    "\n",
    "\n",
    "# NOTE: Only the \"annualseasonal/2006-2020\" data has updated metadata. You can't run anything else yet.\n",
    "csv_dir = \"/Volumes/Samsung_T5/data/ncn/tabular/normals-annualseasonal/2006-2020/access\"\n",
    "csv_paths = list(Path(csv_dir).glob(\"*.csv\"))\n",
    "csv_hrefs = [path.as_posix() for path in csv_paths]\n",
    "\n",
    "period = Period(csv_dir.split(\"/\")[-2])\n",
    "frequency = Frequency(csv_dir.split(\"/\")[-3].split(\"-\")[1])\n",
    "\n",
    "geoparquet_href = create_parquet(\n",
    "    csv_hrefs=csv_hrefs[0:100],\n",
    "    frequency=frequency,\n",
    "    period=period,\n",
    "    parquet_path=Path(\"geoparquet_test\", f\"{id_string(frequency, period)}.parquet\"),\n",
    ")\n"
   ]
  }
 ],
 "metadata": {
  "kernelspec": {
   "display_name": "Python 3.9.11 ('.venv': venv)",
   "language": "python",
   "name": "python3"
  },
  "language_info": {
   "codemirror_mode": {
    "name": "ipython",
    "version": 3
   },
   "file_extension": ".py",
   "mimetype": "text/x-python",
   "name": "python",
   "nbconvert_exporter": "python",
   "pygments_lexer": "ipython3",
   "version": "3.9.11"
  },
  "orig_nbformat": 4,
  "vscode": {
   "interpreter": {
    "hash": "79c59cb5a6acf95f9879c4c295cb5bb11e318f4385f6b6f93afa3e88c52c85ff"
   }
  }
 },
 "nbformat": 4,
 "nbformat_minor": 2
}
